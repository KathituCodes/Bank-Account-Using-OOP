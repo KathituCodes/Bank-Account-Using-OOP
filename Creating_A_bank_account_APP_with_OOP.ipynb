{
  "nbformat": 4,
  "nbformat_minor": 0,
  "metadata": {
    "colab": {
      "provenance": [],
      "include_colab_link": true
    },
    "kernelspec": {
      "name": "python3",
      "display_name": "Python 3"
    },
    "language_info": {
      "name": "python"
    }
  },
  "cells": [
    {
      "cell_type": "markdown",
      "metadata": {
        "id": "view-in-github",
        "colab_type": "text"
      },
      "source": [
        "<a href=\"https://colab.research.google.com/github/KathituCodes/Bank-Account-Using-OOP/blob/main/Creating_A_bank_account_APP_with_OOP.ipynb\" target=\"_parent\"><img src=\"https://colab.research.google.com/assets/colab-badge.svg\" alt=\"Open In Colab\"/></a>"
      ]
    },
    {
      "cell_type": "markdown",
      "source": [
        "# **ORIGINAL CODE NOT FOR STREAMLIT RUNS LOCALLY ON COLAB**"
      ],
      "metadata": {
        "id": "HCAAVQauqrx6"
      }
    },
    {
      "cell_type": "code",
      "execution_count": null,
      "metadata": {
        "id": "hhHFqszjYIR-",
        "colab": {
          "base_uri": "https://localhost:8080/",
          "height": 453
        },
        "outputId": "6b2d6917-ddbb-4763-fa88-c6cbe2a6b3cc"
      },
      "outputs": [
        {
          "output_type": "stream",
          "name": "stdout",
          "text": [
            "WELCOME TO KENYA NATIONAL BANK! PLEASE ENTER YOUR NAME: Peter\n",
            "\n",
            "Hello, Peter! Lets begin setting up your account.\n",
            "\n",
            "Account has successfully been created!\n",
            "Account Number: PETCNQPKOV12W\n",
            "Account Balance: KSH 0.00\n",
            "\n",
            "Choose an option:\n",
            "1. Deposit\n",
            "2. Withdraw\n",
            "3. Check Balance\n",
            "4. Exit\n",
            "Enter your choice (1-4): 1\n",
            "Enter the amount to deposit: 2666\n",
            "Deposit of KSH 2666.00 successful.\n",
            "New balance KSH : 2666.00\n",
            "Do you want to perform another action? (y/n): n\n",
            "Thank you for using our services. Goodbye!\n"
          ]
        },
        {
          "output_type": "error",
          "ename": "SystemExit",
          "evalue": "",
          "traceback": [
            "An exception has occurred, use %tb to see the full traceback.\n",
            "\u001b[0;31mSystemExit\u001b[0m\n"
          ]
        },
        {
          "output_type": "stream",
          "name": "stderr",
          "text": [
            "/usr/local/lib/python3.11/dist-packages/IPython/core/interactiveshell.py:3561: UserWarning: To exit: use 'exit', 'quit', or Ctrl-D.\n",
            "  warn(\"To exit: use 'exit', 'quit', or Ctrl-D.\", stacklevel=1)\n"
          ]
        }
      ],
      "source": [
        "import random\n",
        "import sys\n",
        "import string\n",
        "\n",
        "# Step 1: Create a class called Account and a constructor called when creating a new account\n",
        "class Account:\n",
        "  def __init__(self, account_holder, account_number, account_balance=0.0):\n",
        "    self.account_number = account_number\n",
        "    self.account_balance = account_balance\n",
        "    self.account_holder = account_holder\n",
        "\n",
        "  # Generates alphanumeric strings of length 10\n",
        "  def generate_account_number(self):\n",
        "    random_string = ''.join(random.choices(string.ascii_uppercase + string.digits, k=10))\n",
        "    return self.account_holder[:3].upper() + random_string\n",
        "\n",
        "  # Method to add money to the account\n",
        "  def deposit(self, amount):\n",
        "    if amount <= 0:\n",
        "      print(\"Invalid deposit amount. Amount must be greater than zero.\")\n",
        "      return False\n",
        "    # Add the amount to current balance\n",
        "    self.account_balance += amount\n",
        "    print(f\"Deposit of KSH {amount:.2f} successful.\")\n",
        "    print(f\"New balance KSH : {self.account_balance:.2f}\")\n",
        "    return True\n",
        "\n",
        "  # Method to withdraw money from account\n",
        "  def withdraw(self, amount):\n",
        "    if amount <= 0:\n",
        "      print(\"Invalid withdrawal amount. Amount must be greater than zero.\")\n",
        "      return False\n",
        "    if amount > self.account_balance:\n",
        "      print(\"Insufficient funds. Withdrawal failed.\")\n",
        "      return False\n",
        "\n",
        "    # Method to check the account balance\n",
        "    if self.account_balance >= amount:\n",
        "      self.account_balance -= amount\n",
        "      print(f\"Withdrawal of KSH {amount:.2f} successful.\")\n",
        "      print(f\"New balance KSH : {self.account_balance:.2f}\")\n",
        "      return True\n",
        "    else:\n",
        "      print(\"Insufficient funds. Withdrawal failed.\")\n",
        "      print(f\"Available balance KSH : {self.account_balance:.2f}\")\n",
        "      return False\n",
        "\n",
        "  # Method to check account information\n",
        "  def check_balance(self):\n",
        "    print(f\"Account balance for {self.account_holder}: KSH {self.account_balance:.2f}\")\n",
        "    print(\"---------------------------------\")\n",
        "\n",
        "# Function to get a valid amount from user input\n",
        "def get_valid_amount(prompt):\n",
        "  while True:\n",
        "    try:\n",
        "      amount = float(input(prompt))\n",
        "      if amount >= 0:\n",
        "        return amount\n",
        "      else:\n",
        "        print(\"Amount cannot be negative. Please enter a valid amount.\")\n",
        "    except ValueError:\n",
        "      print(\"Invalid input. Please enter a numerical value.\")\n",
        "\n",
        "# Function to exit the program\n",
        "def exit_program():\n",
        "  print(\"Thank you for using our services. Goodbye!\")\n",
        "  sys.exit()\n",
        "\n",
        "# Creating a new account object\n",
        "user_name = input(\"WELCOME TO KENYA NATIONAL BANK! PLEASE ENTER YOUR NAME: \")\n",
        "\n",
        "# User inputs account details\n",
        "print(f\"\\nHello, {user_name}! Lets begin setting up your account.\")\n",
        "\n",
        "# Create an intance of the account class\n",
        "# Generate account number here\n",
        "account_number = Account(user_name, \"\").generate_account_number()\n",
        "my_account = Account(user_name, account_number)\n",
        "\n",
        "\n",
        "print(\"\\nAccount has successfully been created!\")\n",
        "print(f\"Account Number: {my_account.account_number}\")\n",
        "print(f\"Account Balance: KSH {my_account.account_balance:.2f}\")\n",
        "\n",
        "# Get the user choices with validation\n",
        "while True:\n",
        "  print(\"\\nChoose an option:\")\n",
        "  print(\"1. Deposit\")\n",
        "  print(\"2. Withdraw\")\n",
        "  print(\"3. Check Balance\")\n",
        "  print(\"4. Exit\")\n",
        "\n",
        "  # Get user choice with validation\n",
        "  while True:\n",
        "    try:\n",
        "      choice = int(input(\"Enter your choice (1-4): \"))\n",
        "      if 1 <= choice <= 4:\n",
        "        break\n",
        "      else:\n",
        "        print(\"Invalid choice. Please enter a number between 1 and 4.\")\n",
        "    except ValueError:\n",
        "      print(\"Invalid input. Please enter a number between 1 and 4.\")\n",
        "\n",
        "  # User input for deposit, withdraw and check balance\n",
        "  if choice == 1:\n",
        "    deposit_amount = get_valid_amount(\"Enter the amount to deposit: \")\n",
        "    my_account.deposit(deposit_amount)\n",
        "  elif choice == 2:\n",
        "    withdraw_amount = get_valid_amount(\"Enter the amount to withdraw: \")\n",
        "    my_account.withdraw(withdraw_amount)\n",
        "  elif choice == 3:\n",
        "    my_account.check_balance()\n",
        "  elif choice == 4:\n",
        "    exit_program()\n",
        "\n",
        "  # Ask the user to perform some interactive actions with the account\n",
        "  while True:\n",
        "    iterated_choice = input(\"Do you want to perform another action? (y/n): \").lower()\n",
        "    if iterated_choice in ('y', 'n'):\n",
        "      break\n",
        "    else:\n",
        "      print(\"Invalid choice. Please enter 'y' to continue or 'n' to exit\")\n",
        "\n",
        "  if iterated_choice == 'n':\n",
        "    exit_program()"
      ]
    },
    {
      "cell_type": "markdown",
      "source": [
        "# **RUN FOR STREMLIT DEPLOYMENT**"
      ],
      "metadata": {
        "id": "47yDKERZqQ92"
      }
    },
    {
      "cell_type": "code",
      "source": [
        "!pip install streamlit"
      ],
      "metadata": {
        "colab": {
          "base_uri": "https://localhost:8080/"
        },
        "id": "c-KU5dsvnrLi",
        "outputId": "15d6cabb-6731-406b-b073-9f3b934334c7"
      },
      "execution_count": null,
      "outputs": [
        {
          "output_type": "stream",
          "name": "stdout",
          "text": [
            "Requirement already satisfied: streamlit in /usr/local/lib/python3.11/dist-packages (1.47.0)\n",
            "Requirement already satisfied: altair<6,>=4.0 in /usr/local/lib/python3.11/dist-packages (from streamlit) (5.5.0)\n",
            "Requirement already satisfied: blinker<2,>=1.5.0 in /usr/local/lib/python3.11/dist-packages (from streamlit) (1.9.0)\n",
            "Requirement already satisfied: cachetools<7,>=4.0 in /usr/local/lib/python3.11/dist-packages (from streamlit) (5.5.2)\n",
            "Requirement already satisfied: click<9,>=7.0 in /usr/local/lib/python3.11/dist-packages (from streamlit) (8.2.1)\n",
            "Requirement already satisfied: numpy<3,>=1.23 in /usr/local/lib/python3.11/dist-packages (from streamlit) (2.0.2)\n",
            "Requirement already satisfied: packaging<26,>=20 in /usr/local/lib/python3.11/dist-packages (from streamlit) (25.0)\n",
            "Requirement already satisfied: pandas<3,>=1.4.0 in /usr/local/lib/python3.11/dist-packages (from streamlit) (2.2.2)\n",
            "Requirement already satisfied: pillow<12,>=7.1.0 in /usr/local/lib/python3.11/dist-packages (from streamlit) (11.3.0)\n",
            "Requirement already satisfied: protobuf<7,>=3.20 in /usr/local/lib/python3.11/dist-packages (from streamlit) (5.29.5)\n",
            "Requirement already satisfied: pyarrow>=7.0 in /usr/local/lib/python3.11/dist-packages (from streamlit) (18.1.0)\n",
            "Requirement already satisfied: requests<3,>=2.27 in /usr/local/lib/python3.11/dist-packages (from streamlit) (2.32.3)\n",
            "Requirement already satisfied: tenacity<10,>=8.1.0 in /usr/local/lib/python3.11/dist-packages (from streamlit) (8.5.0)\n",
            "Requirement already satisfied: toml<2,>=0.10.1 in /usr/local/lib/python3.11/dist-packages (from streamlit) (0.10.2)\n",
            "Requirement already satisfied: typing-extensions<5,>=4.4.0 in /usr/local/lib/python3.11/dist-packages (from streamlit) (4.14.1)\n",
            "Requirement already satisfied: watchdog<7,>=2.1.5 in /usr/local/lib/python3.11/dist-packages (from streamlit) (6.0.0)\n",
            "Requirement already satisfied: gitpython!=3.1.19,<4,>=3.0.7 in /usr/local/lib/python3.11/dist-packages (from streamlit) (3.1.44)\n",
            "Requirement already satisfied: pydeck<1,>=0.8.0b4 in /usr/local/lib/python3.11/dist-packages (from streamlit) (0.9.1)\n",
            "Requirement already satisfied: tornado!=6.5.0,<7,>=6.0.3 in /usr/local/lib/python3.11/dist-packages (from streamlit) (6.4.2)\n",
            "Requirement already satisfied: jinja2 in /usr/local/lib/python3.11/dist-packages (from altair<6,>=4.0->streamlit) (3.1.6)\n",
            "Requirement already satisfied: jsonschema>=3.0 in /usr/local/lib/python3.11/dist-packages (from altair<6,>=4.0->streamlit) (4.25.0)\n",
            "Requirement already satisfied: narwhals>=1.14.2 in /usr/local/lib/python3.11/dist-packages (from altair<6,>=4.0->streamlit) (1.48.0)\n",
            "Requirement already satisfied: gitdb<5,>=4.0.1 in /usr/local/lib/python3.11/dist-packages (from gitpython!=3.1.19,<4,>=3.0.7->streamlit) (4.0.12)\n",
            "Requirement already satisfied: python-dateutil>=2.8.2 in /usr/local/lib/python3.11/dist-packages (from pandas<3,>=1.4.0->streamlit) (2.9.0.post0)\n",
            "Requirement already satisfied: pytz>=2020.1 in /usr/local/lib/python3.11/dist-packages (from pandas<3,>=1.4.0->streamlit) (2025.2)\n",
            "Requirement already satisfied: tzdata>=2022.7 in /usr/local/lib/python3.11/dist-packages (from pandas<3,>=1.4.0->streamlit) (2025.2)\n",
            "Requirement already satisfied: charset-normalizer<4,>=2 in /usr/local/lib/python3.11/dist-packages (from requests<3,>=2.27->streamlit) (3.4.2)\n",
            "Requirement already satisfied: idna<4,>=2.5 in /usr/local/lib/python3.11/dist-packages (from requests<3,>=2.27->streamlit) (3.10)\n",
            "Requirement already satisfied: urllib3<3,>=1.21.1 in /usr/local/lib/python3.11/dist-packages (from requests<3,>=2.27->streamlit) (2.5.0)\n",
            "Requirement already satisfied: certifi>=2017.4.17 in /usr/local/lib/python3.11/dist-packages (from requests<3,>=2.27->streamlit) (2025.7.14)\n",
            "Requirement already satisfied: smmap<6,>=3.0.1 in /usr/local/lib/python3.11/dist-packages (from gitdb<5,>=4.0.1->gitpython!=3.1.19,<4,>=3.0.7->streamlit) (5.0.2)\n",
            "Requirement already satisfied: MarkupSafe>=2.0 in /usr/local/lib/python3.11/dist-packages (from jinja2->altair<6,>=4.0->streamlit) (3.0.2)\n",
            "Requirement already satisfied: attrs>=22.2.0 in /usr/local/lib/python3.11/dist-packages (from jsonschema>=3.0->altair<6,>=4.0->streamlit) (25.3.0)\n",
            "Requirement already satisfied: jsonschema-specifications>=2023.03.6 in /usr/local/lib/python3.11/dist-packages (from jsonschema>=3.0->altair<6,>=4.0->streamlit) (2025.4.1)\n",
            "Requirement already satisfied: referencing>=0.28.4 in /usr/local/lib/python3.11/dist-packages (from jsonschema>=3.0->altair<6,>=4.0->streamlit) (0.36.2)\n",
            "Requirement already satisfied: rpds-py>=0.7.1 in /usr/local/lib/python3.11/dist-packages (from jsonschema>=3.0->altair<6,>=4.0->streamlit) (0.26.0)\n",
            "Requirement already satisfied: six>=1.5 in /usr/local/lib/python3.11/dist-packages (from python-dateutil>=2.8.2->pandas<3,>=1.4.0->streamlit) (1.17.0)\n"
          ]
        }
      ]
    },
    {
      "cell_type": "code",
      "source": [
        "%%writefile app.py\n",
        "import random\n",
        "import string\n",
        "import streamlit as st\n",
        "\n",
        "\n",
        "# Step 1: Create a class called Account and a constructor called when creating a new account\n",
        "class Account:\n",
        "    def __init__(self, account_holder, account_number, account_balance=0.0):\n",
        "        self.account_number = account_number\n",
        "        self.account_balance = account_balance\n",
        "        self.account_holder = account_holder\n",
        "\n",
        "    def generate_account_number(self):\n",
        "        random_string = ''.join(random.choices(string.ascii_uppercase + string.digits, k=10))\n",
        "        return self.account_holder[:3].upper() + random_string\n",
        "\n",
        "    def deposit(self, amount):\n",
        "        if amount <= 0:\n",
        "            return \"Invalid deposit amount. Amount must be greater than zero.\"\n",
        "        self.account_balance += amount\n",
        "        return f\"Deposit of KSH {amount:.2f} successful. New balance: KSH {self.account_balance:.2f}\"\n",
        "\n",
        "    def withdraw(self, amount):\n",
        "        if amount <= 0:\n",
        "            return \"Invalid withdrawal amount. Amount must be greater than zero.\"\n",
        "        if amount > self.account_balance:\n",
        "            return f\"Insufficient funds. Available balance: KSH {self.account_balance:.2f}\"\n",
        "        self.account_balance -= amount\n",
        "        return f\"Withdrawal of KSH {amount:.2f} successful. New balance: KSH {self.account_balance:.2f}\"\n",
        "\n",
        "    def check_balance(self):\n",
        "        return f\"Account balance for {self.account_holder}: KSH {self.account_balance:.2f}\"\n",
        "\n",
        "\n",
        "# Initialize session state\n",
        "if 'account_created' not in st.session_state:\n",
        "    st.session_state.account_created = False\n",
        "\n",
        "st.title(\"🏦 Kenya National Bank - Streamlit Banking App\")\n",
        "\n",
        "if not st.session_state.account_created:\n",
        "    st.header(\"Create Your Account\")\n",
        "    name_input = st.text_input(\"Enter your name:\")\n",
        "    if st.button(\"Create Account\") and name_input.strip():\n",
        "        # Create account and store in session\n",
        "        temp_account = Account(name_input, \"\")\n",
        "        account_number = temp_account.generate_account_number()\n",
        "        st.session_state.my_account = Account(name_input, account_number)\n",
        "        st.session_state.account_created = True\n",
        "        st.success(\"Account successfully created!\")\n",
        "        st.balloons()\n",
        "\n",
        "# Display dashboard if account is created\n",
        "if st.session_state.account_created:\n",
        "    acc = st.session_state.my_account\n",
        "    st.subheader(f\"Welcome, {acc.account_holder} 👋\")\n",
        "    st.write(f\"**Account Number:** `{acc.account_number}`\")\n",
        "    st.write(f\"**Current Balance:** KSH {acc.account_balance:.2f}\")\n",
        "\n",
        "    st.divider()\n",
        "\n",
        "    action = st.selectbox(\"Choose an action\", [\"Deposit\", \"Withdraw\", \"Check Balance\"])\n",
        "\n",
        "    if action == \"Deposit\":\n",
        "        deposit_amount = st.number_input(\"Enter amount to deposit\", min_value=0.0, format=\"%.2f\")\n",
        "        if st.button(\"Deposit\"):\n",
        "            result = acc.deposit(deposit_amount)\n",
        "            st.info(result)\n",
        "\n",
        "    elif action == \"Withdraw\":\n",
        "        withdraw_amount = st.number_input(\"Enter amount to withdraw\", min_value=0.0, format=\"%.2f\")\n",
        "        if st.button(\"Withdraw\"):\n",
        "            result = acc.withdraw(withdraw_amount)\n",
        "            st.info(result)\n",
        "\n",
        "    elif action == \"Check Balance\":\n",
        "        if st.button(\"Show Balance\"):\n",
        "            st.success(acc.check_balance())\n",
        "\n",
        "    if st.button(\"End Session\"):\n",
        "        st.session_state.clear()\n",
        "        st.success(\"Session ended. Thank you for banking with us.\")\n"
      ],
      "metadata": {
        "colab": {
          "base_uri": "https://localhost:8080/"
        },
        "id": "7fRQcZGnpBUr",
        "outputId": "4edfd7c2-809e-48d8-9197-9c438ecaa4b9"
      },
      "execution_count": null,
      "outputs": [
        {
          "output_type": "stream",
          "name": "stdout",
          "text": [
            "Writing app.py\n"
          ]
        }
      ]
    },
    {
      "cell_type": "code",
      "source": [
        "# Create streamlit ip address\n",
        "# Copy the IP address and paste in the tunnel\n",
        "!wget -qO- ipv4.icanhazip.com"
      ],
      "metadata": {
        "colab": {
          "base_uri": "https://localhost:8080/"
        },
        "id": "VzjxUtOgn9Bv",
        "outputId": "c47e96dd-075d-4a10-cd02-e3ff2fad0ef2"
      },
      "execution_count": null,
      "outputs": [
        {
          "output_type": "stream",
          "name": "stdout",
          "text": [
            "34.86.114.140\n"
          ]
        }
      ]
    },
    {
      "cell_type": "code",
      "source": [
        "# Runs the streamlit app\n",
        "# It will give you an option. click y to create link\n",
        "! streamlit run app.py & npx localtunnel --port 8501"
      ],
      "metadata": {
        "colab": {
          "base_uri": "https://localhost:8080/"
        },
        "id": "XqN0iroQoZXL",
        "outputId": "9a6f111f-2b81-492c-f90e-3497820f7a22"
      },
      "execution_count": null,
      "outputs": [
        {
          "output_type": "stream",
          "name": "stdout",
          "text": [
            "\u001b[1G\u001b[0K⠙\n",
            "Collecting usage statistics. To deactivate, set browser.gatherUsageStats to false.\n",
            "\u001b[0m\n",
            "\u001b[1G\u001b[0K⠹\u001b[1G\u001b[0K⠸\u001b[1G\u001b[0K⠼\u001b[1G\u001b[0K⠴\u001b[1G\u001b[0K⠦\u001b[1G\u001b[0K⠧\u001b[0m\n",
            "\u001b[34m\u001b[1m  You can now view your Streamlit app in your browser.\u001b[0m\n",
            "\u001b[0m\n",
            "\u001b[34m  Local URL: \u001b[0m\u001b[1mhttp://localhost:8501\u001b[0m\n",
            "\u001b[34m  Network URL: \u001b[0m\u001b[1mhttp://172.28.0.12:8501\u001b[0m\n",
            "\u001b[34m  External URL: \u001b[0m\u001b[1mhttp://34.86.114.140:8501\u001b[0m\n",
            "\u001b[0m\n",
            "\u001b[1G\u001b[0K⠇\u001b[1G\u001b[0K⠏\u001b[1G\u001b[0K⠋\u001b[1G\u001b[0K⠙\u001b[1G\u001b[0K⠹\u001b[1G\u001b[0K⠸\u001b[1G\u001b[0K⠼\u001b[1G\u001b[0Kyour url is: https://clever-steaks-brake.loca.lt\n",
            "\u001b[34m  Stopping...\u001b[0m\n",
            "^C\n"
          ]
        }
      ]
    }
  ]
}